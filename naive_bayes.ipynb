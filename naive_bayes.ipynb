{
  "nbformat": 4,
  "nbformat_minor": 0,
  "metadata": {
    "colab": {
      "provenance": [],
      "include_colab_link": true
    },
    "kernelspec": {
      "name": "python3",
      "display_name": "Python 3"
    },
    "language_info": {
      "name": "python"
    }
  },
  "cells": [
    {
      "cell_type": "markdown",
      "metadata": {
        "id": "view-in-github",
        "colab_type": "text"
      },
      "source": [
        "<a href=\"https://colab.research.google.com/github/disola/naive-bayes/blob/main/naive_bayes.ipynb\" target=\"_parent\"><img src=\"https://colab.research.google.com/assets/colab-badge.svg\" alt=\"Open In Colab\"/></a>"
      ]
    },
    {
      "cell_type": "markdown",
      "source": [
        "# Implementierung von Naive Bayes:\n",
        "\n",
        "Die Aufgabe ist es, gegeben eines Feedbacks an die Direkt Bahn (DB) zu entscheiden, ob das Feedback ein positives oder ein negatives Sentiment hat.\n",
        "Dazu implementieren wir die Naive Bayes-Methode.\n",
        "\n",
        "Die Implementierung umfasst die folgenden Schritte:\n",
        "\n",
        "A. Daten vorbereiten:\n",
        "1. Lade den annotierten Datensatz als Dataframe\n",
        "2. Bereinige den Datensatz\n",
        "\n",
        "B. Naive-Bayes-Modell trainieren\n",
        "3. Zähle die Worthäufigkeiten je Klasse\n",
        "4. Berechne Log Prior und die Log-Likelihood-Werte λ je Wort\n",
        "\n",
        "C. Naives-Bayes-Modell anwenden\n",
        "5. Nutze das Modell zur Sentimentanalyse\n",
        "\n",
        "Wir nutzen den kompletten Datensatz zum Training und wenden das Modell auf beliebigen von Nutzenden eingegebenen Feedbacks an. Aufgrund der beschränkten Zeit machen wir keinen Train-Test-Split und beschränken uns auf das Vokabular, das durch den Datensatz gegeben ist."
      ],
      "metadata": {
        "id": "-fT1M87KFXNk"
      }
    },
    {
      "cell_type": "markdown",
      "source": [
        "## A. Daten vorbereiten"
      ],
      "metadata": {
        "id": "O9rdvyo2v9Zk"
      }
    },
    {
      "cell_type": "markdown",
      "source": [
        "### 1. Lade den annotierten Datensatz als Dataframe"
      ],
      "metadata": {
        "id": "NRp-SnsZw8CW"
      }
    },
    {
      "cell_type": "code",
      "execution_count": 1,
      "metadata": {
        "id": "T3AgYobRiDu4"
      },
      "outputs": [],
      "source": [
        "feedbacks = [\n",
        "    (\"Es lief gut, Zug pünktlich.\", 1),\n",
        "    (\"Fahrt war gut.\", 1),\n",
        "    (\"Es lief schlecht, Zug verspätet.\", 0),\n",
        "    (\"Fahrt war nicht gut.\", 0),\n",
        "    (\"Alles wie geplant, super Service.\", 1),\n",
        "    (\"Sehr angenehme Reise, alles top.\", 1),\n",
        "    (\"Pünktlich und sauber, gerne wieder.\", 1),\n",
        "    (\"Zug war ruhig und komfortabel.\", 1),\n",
        "    (\"Nettes Personal und gute Verbindung.\", 1),\n",
        "    (\"Schnelle Fahrt, keine Probleme.\", 1),\n",
        "    (\"Bequeme Sitze und gutes WLAN.\", 1),\n",
        "    (\"Reise verlief ohne Zwischenfälle.\", 1),\n",
        "    (\"Zug kam sogar früher an.\", 1),\n",
        "    (\"Einwandfreie Reiseerfahrung.\", 1),\n",
        "    (\"Sehr zufrieden mit der Fahrt.\", 1),\n",
        "    (\"Klasse Verbindung, keine Umstiege.\", 1),\n",
        "    (\"Alles wie geplant, super Service.\", 1),\n",
        "    (\"Zugfahrt war sehr angenehm.\", 1),\n",
        "    (\"Personal war freundlich und hilfsbereit.\", 1),\n",
        "    (\"Fahrtzeit wie angekündigt, super.\", 1),\n",
        "    (\"Verbindung war ideal, danke.\", 1),\n",
        "    (\"Toller Ausblick während der Fahrt.\", 1),\n",
        "    (\"Reise verlief schlecht.\", 0),\n",
        "    (\"Klimaanlage war kaputt.\", 0),\n",
        "    (\"WLAN war kaputt.\", 0),\n",
        "    (\"Zug hatte über eine Stunde Verspätung.\", 0),\n",
        "    (\"Klima im Waggon war schlecht.\", 0),\n",
        "    (\"Toiletten waren nicht sauber.\", 0),\n",
        "    (\"Unfreundliches Personal.\", 0),\n",
        "    (\"Zug ist ausgefallen.\", 0),\n",
        "    (\"Musste lange auf Anschluss warten.\", 0),\n",
        "    (\"Überfüllt und laut.\", 0),\n",
        "    (\"Keine Klimaanlage bei Hitze.\", 0),\n",
        "    (\"Zug kam gar nicht.\", 0),\n",
        "    (\"Reise war sehr unangenehm.\", 0),\n",
        "    (\"WLAN hat nicht funktioniert.\", 0),\n",
        "    (\"Sitze waren kaputt.\", 0),\n",
        "    (\"Zug hielt mitten auf der Strecke.\", 0),\n",
        "    (\"Ständige Verspätungen.\", 0),\n",
        "    (\"Musste im Gang stehen.\", 0)\n",
        "]"
      ]
    },
    {
      "cell_type": "markdown",
      "source": [
        "Wir nutzen *pandas*, da es eine effiziente Datenverarbeitung erlaubt."
      ],
      "metadata": {
        "id": "O9QHBmV7zt0R"
      }
    },
    {
      "cell_type": "code",
      "source": [
        "import pandas as pd"
      ],
      "metadata": {
        "id": "S8pVXX7WxzSl"
      },
      "execution_count": 2,
      "outputs": []
    },
    {
      "cell_type": "code",
      "source": [
        "feedback_dict = {\n",
        "    \"text\": [f[0] for f in feedbacks],\n",
        "    \"label\": [f[1] for f in feedbacks]\n",
        "}"
      ],
      "metadata": {
        "id": "JZVFTWhPwVdp"
      },
      "execution_count": 3,
      "outputs": []
    },
    {
      "cell_type": "code",
      "source": [
        "df = pd.DataFrame(feedback_dict)\n",
        "# Zeige die ersten vier Zeilen des Dataframes an\n",
        "df.head(4)"
      ],
      "metadata": {
        "id": "TYfo5goPxVS0",
        "outputId": "18a87f82-afc9-424a-85a3-6569a17a8bfb",
        "colab": {
          "base_uri": "https://localhost:8080/",
          "height": 175
        }
      },
      "execution_count": 4,
      "outputs": [
        {
          "output_type": "execute_result",
          "data": {
            "text/plain": [
              "                               text  label\n",
              "0       Es lief gut, Zug pünktlich.      1\n",
              "1                    Fahrt war gut.      1\n",
              "2  Es lief schlecht, Zug verspätet.      0\n",
              "3              Fahrt war nicht gut.      0"
            ],
            "text/html": [
              "\n",
              "  <div id=\"df-bdc9af7d-11be-4bdd-9b5c-8f83b9a0b883\" class=\"colab-df-container\">\n",
              "    <div>\n",
              "<style scoped>\n",
              "    .dataframe tbody tr th:only-of-type {\n",
              "        vertical-align: middle;\n",
              "    }\n",
              "\n",
              "    .dataframe tbody tr th {\n",
              "        vertical-align: top;\n",
              "    }\n",
              "\n",
              "    .dataframe thead th {\n",
              "        text-align: right;\n",
              "    }\n",
              "</style>\n",
              "<table border=\"1\" class=\"dataframe\">\n",
              "  <thead>\n",
              "    <tr style=\"text-align: right;\">\n",
              "      <th></th>\n",
              "      <th>text</th>\n",
              "      <th>label</th>\n",
              "    </tr>\n",
              "  </thead>\n",
              "  <tbody>\n",
              "    <tr>\n",
              "      <th>0</th>\n",
              "      <td>Es lief gut, Zug pünktlich.</td>\n",
              "      <td>1</td>\n",
              "    </tr>\n",
              "    <tr>\n",
              "      <th>1</th>\n",
              "      <td>Fahrt war gut.</td>\n",
              "      <td>1</td>\n",
              "    </tr>\n",
              "    <tr>\n",
              "      <th>2</th>\n",
              "      <td>Es lief schlecht, Zug verspätet.</td>\n",
              "      <td>0</td>\n",
              "    </tr>\n",
              "    <tr>\n",
              "      <th>3</th>\n",
              "      <td>Fahrt war nicht gut.</td>\n",
              "      <td>0</td>\n",
              "    </tr>\n",
              "  </tbody>\n",
              "</table>\n",
              "</div>\n",
              "    <div class=\"colab-df-buttons\">\n",
              "\n",
              "  <div class=\"colab-df-container\">\n",
              "    <button class=\"colab-df-convert\" onclick=\"convertToInteractive('df-bdc9af7d-11be-4bdd-9b5c-8f83b9a0b883')\"\n",
              "            title=\"Convert this dataframe to an interactive table.\"\n",
              "            style=\"display:none;\">\n",
              "\n",
              "  <svg xmlns=\"http://www.w3.org/2000/svg\" height=\"24px\" viewBox=\"0 -960 960 960\">\n",
              "    <path d=\"M120-120v-720h720v720H120Zm60-500h600v-160H180v160Zm220 220h160v-160H400v160Zm0 220h160v-160H400v160ZM180-400h160v-160H180v160Zm440 0h160v-160H620v160ZM180-180h160v-160H180v160Zm440 0h160v-160H620v160Z\"/>\n",
              "  </svg>\n",
              "    </button>\n",
              "\n",
              "  <style>\n",
              "    .colab-df-container {\n",
              "      display:flex;\n",
              "      gap: 12px;\n",
              "    }\n",
              "\n",
              "    .colab-df-convert {\n",
              "      background-color: #E8F0FE;\n",
              "      border: none;\n",
              "      border-radius: 50%;\n",
              "      cursor: pointer;\n",
              "      display: none;\n",
              "      fill: #1967D2;\n",
              "      height: 32px;\n",
              "      padding: 0 0 0 0;\n",
              "      width: 32px;\n",
              "    }\n",
              "\n",
              "    .colab-df-convert:hover {\n",
              "      background-color: #E2EBFA;\n",
              "      box-shadow: 0px 1px 2px rgba(60, 64, 67, 0.3), 0px 1px 3px 1px rgba(60, 64, 67, 0.15);\n",
              "      fill: #174EA6;\n",
              "    }\n",
              "\n",
              "    .colab-df-buttons div {\n",
              "      margin-bottom: 4px;\n",
              "    }\n",
              "\n",
              "    [theme=dark] .colab-df-convert {\n",
              "      background-color: #3B4455;\n",
              "      fill: #D2E3FC;\n",
              "    }\n",
              "\n",
              "    [theme=dark] .colab-df-convert:hover {\n",
              "      background-color: #434B5C;\n",
              "      box-shadow: 0px 1px 3px 1px rgba(0, 0, 0, 0.15);\n",
              "      filter: drop-shadow(0px 1px 2px rgba(0, 0, 0, 0.3));\n",
              "      fill: #FFFFFF;\n",
              "    }\n",
              "  </style>\n",
              "\n",
              "    <script>\n",
              "      const buttonEl =\n",
              "        document.querySelector('#df-bdc9af7d-11be-4bdd-9b5c-8f83b9a0b883 button.colab-df-convert');\n",
              "      buttonEl.style.display =\n",
              "        google.colab.kernel.accessAllowed ? 'block' : 'none';\n",
              "\n",
              "      async function convertToInteractive(key) {\n",
              "        const element = document.querySelector('#df-bdc9af7d-11be-4bdd-9b5c-8f83b9a0b883');\n",
              "        const dataTable =\n",
              "          await google.colab.kernel.invokeFunction('convertToInteractive',\n",
              "                                                    [key], {});\n",
              "        if (!dataTable) return;\n",
              "\n",
              "        const docLinkHtml = 'Like what you see? Visit the ' +\n",
              "          '<a target=\"_blank\" href=https://colab.research.google.com/notebooks/data_table.ipynb>data table notebook</a>'\n",
              "          + ' to learn more about interactive tables.';\n",
              "        element.innerHTML = '';\n",
              "        dataTable['output_type'] = 'display_data';\n",
              "        await google.colab.output.renderOutput(dataTable, element);\n",
              "        const docLink = document.createElement('div');\n",
              "        docLink.innerHTML = docLinkHtml;\n",
              "        element.appendChild(docLink);\n",
              "      }\n",
              "    </script>\n",
              "  </div>\n",
              "\n",
              "\n",
              "<div id=\"df-ed2058aa-7c1e-4144-a796-1570d2a293e1\">\n",
              "  <button class=\"colab-df-quickchart\" onclick=\"quickchart('df-ed2058aa-7c1e-4144-a796-1570d2a293e1')\"\n",
              "            title=\"Suggest charts\"\n",
              "            style=\"display:none;\">\n",
              "\n",
              "<svg xmlns=\"http://www.w3.org/2000/svg\" height=\"24px\"viewBox=\"0 0 24 24\"\n",
              "     width=\"24px\">\n",
              "    <g>\n",
              "        <path d=\"M19 3H5c-1.1 0-2 .9-2 2v14c0 1.1.9 2 2 2h14c1.1 0 2-.9 2-2V5c0-1.1-.9-2-2-2zM9 17H7v-7h2v7zm4 0h-2V7h2v10zm4 0h-2v-4h2v4z\"/>\n",
              "    </g>\n",
              "</svg>\n",
              "  </button>\n",
              "\n",
              "<style>\n",
              "  .colab-df-quickchart {\n",
              "      --bg-color: #E8F0FE;\n",
              "      --fill-color: #1967D2;\n",
              "      --hover-bg-color: #E2EBFA;\n",
              "      --hover-fill-color: #174EA6;\n",
              "      --disabled-fill-color: #AAA;\n",
              "      --disabled-bg-color: #DDD;\n",
              "  }\n",
              "\n",
              "  [theme=dark] .colab-df-quickchart {\n",
              "      --bg-color: #3B4455;\n",
              "      --fill-color: #D2E3FC;\n",
              "      --hover-bg-color: #434B5C;\n",
              "      --hover-fill-color: #FFFFFF;\n",
              "      --disabled-bg-color: #3B4455;\n",
              "      --disabled-fill-color: #666;\n",
              "  }\n",
              "\n",
              "  .colab-df-quickchart {\n",
              "    background-color: var(--bg-color);\n",
              "    border: none;\n",
              "    border-radius: 50%;\n",
              "    cursor: pointer;\n",
              "    display: none;\n",
              "    fill: var(--fill-color);\n",
              "    height: 32px;\n",
              "    padding: 0;\n",
              "    width: 32px;\n",
              "  }\n",
              "\n",
              "  .colab-df-quickchart:hover {\n",
              "    background-color: var(--hover-bg-color);\n",
              "    box-shadow: 0 1px 2px rgba(60, 64, 67, 0.3), 0 1px 3px 1px rgba(60, 64, 67, 0.15);\n",
              "    fill: var(--button-hover-fill-color);\n",
              "  }\n",
              "\n",
              "  .colab-df-quickchart-complete:disabled,\n",
              "  .colab-df-quickchart-complete:disabled:hover {\n",
              "    background-color: var(--disabled-bg-color);\n",
              "    fill: var(--disabled-fill-color);\n",
              "    box-shadow: none;\n",
              "  }\n",
              "\n",
              "  .colab-df-spinner {\n",
              "    border: 2px solid var(--fill-color);\n",
              "    border-color: transparent;\n",
              "    border-bottom-color: var(--fill-color);\n",
              "    animation:\n",
              "      spin 1s steps(1) infinite;\n",
              "  }\n",
              "\n",
              "  @keyframes spin {\n",
              "    0% {\n",
              "      border-color: transparent;\n",
              "      border-bottom-color: var(--fill-color);\n",
              "      border-left-color: var(--fill-color);\n",
              "    }\n",
              "    20% {\n",
              "      border-color: transparent;\n",
              "      border-left-color: var(--fill-color);\n",
              "      border-top-color: var(--fill-color);\n",
              "    }\n",
              "    30% {\n",
              "      border-color: transparent;\n",
              "      border-left-color: var(--fill-color);\n",
              "      border-top-color: var(--fill-color);\n",
              "      border-right-color: var(--fill-color);\n",
              "    }\n",
              "    40% {\n",
              "      border-color: transparent;\n",
              "      border-right-color: var(--fill-color);\n",
              "      border-top-color: var(--fill-color);\n",
              "    }\n",
              "    60% {\n",
              "      border-color: transparent;\n",
              "      border-right-color: var(--fill-color);\n",
              "    }\n",
              "    80% {\n",
              "      border-color: transparent;\n",
              "      border-right-color: var(--fill-color);\n",
              "      border-bottom-color: var(--fill-color);\n",
              "    }\n",
              "    90% {\n",
              "      border-color: transparent;\n",
              "      border-bottom-color: var(--fill-color);\n",
              "    }\n",
              "  }\n",
              "</style>\n",
              "\n",
              "  <script>\n",
              "    async function quickchart(key) {\n",
              "      const quickchartButtonEl =\n",
              "        document.querySelector('#' + key + ' button');\n",
              "      quickchartButtonEl.disabled = true;  // To prevent multiple clicks.\n",
              "      quickchartButtonEl.classList.add('colab-df-spinner');\n",
              "      try {\n",
              "        const charts = await google.colab.kernel.invokeFunction(\n",
              "            'suggestCharts', [key], {});\n",
              "      } catch (error) {\n",
              "        console.error('Error during call to suggestCharts:', error);\n",
              "      }\n",
              "      quickchartButtonEl.classList.remove('colab-df-spinner');\n",
              "      quickchartButtonEl.classList.add('colab-df-quickchart-complete');\n",
              "    }\n",
              "    (() => {\n",
              "      let quickchartButtonEl =\n",
              "        document.querySelector('#df-ed2058aa-7c1e-4144-a796-1570d2a293e1 button');\n",
              "      quickchartButtonEl.style.display =\n",
              "        google.colab.kernel.accessAllowed ? 'block' : 'none';\n",
              "    })();\n",
              "  </script>\n",
              "</div>\n",
              "\n",
              "    </div>\n",
              "  </div>\n"
            ],
            "application/vnd.google.colaboratory.intrinsic+json": {
              "type": "dataframe",
              "variable_name": "df",
              "summary": "{\n  \"name\": \"df\",\n  \"rows\": 40,\n  \"fields\": [\n    {\n      \"column\": \"text\",\n      \"properties\": {\n        \"dtype\": \"string\",\n        \"num_unique_values\": 39,\n        \"samples\": [\n          \"Reise war sehr unangenehm.\",\n          \"Zug hielt mitten auf der Strecke.\",\n          \"Alles wie geplant, super Service.\"\n        ],\n        \"semantic_type\": \"\",\n        \"description\": \"\"\n      }\n    },\n    {\n      \"column\": \"label\",\n      \"properties\": {\n        \"dtype\": \"number\",\n        \"std\": 0,\n        \"min\": 0,\n        \"max\": 1,\n        \"num_unique_values\": 2,\n        \"samples\": [\n          0,\n          1\n        ],\n        \"semantic_type\": \"\",\n        \"description\": \"\"\n      }\n    }\n  ]\n}"
            }
          },
          "metadata": {},
          "execution_count": 4
        }
      ]
    },
    {
      "cell_type": "code",
      "source": [
        "# Bestimme die Anzahl der Feedbacks\n",
        "len(df)"
      ],
      "metadata": {
        "colab": {
          "base_uri": "https://localhost:8080/"
        },
        "id": "ozezd1sb0aq4",
        "outputId": "68f0fe83-1788-4344-8e86-5cfc61972738"
      },
      "execution_count": 5,
      "outputs": [
        {
          "output_type": "execute_result",
          "data": {
            "text/plain": [
              "40"
            ]
          },
          "metadata": {},
          "execution_count": 5
        }
      ]
    },
    {
      "cell_type": "code",
      "source": [
        "# Zähle, wie oft jeder eindeutige Wert in der Spalte 'label' des DataFrames df vorkommt.\n",
        "df[\"label\"].value_counts()"
      ],
      "metadata": {
        "colab": {
          "base_uri": "https://localhost:8080/",
          "height": 178
        },
        "id": "fTA78OhnuvIP",
        "outputId": "95496f26-6f55-4d2c-daef-fe2506c4ca2d"
      },
      "execution_count": 6,
      "outputs": [
        {
          "output_type": "execute_result",
          "data": {
            "text/plain": [
              "label\n",
              "1    20\n",
              "0    20\n",
              "Name: count, dtype: int64"
            ],
            "text/html": [
              "<div>\n",
              "<style scoped>\n",
              "    .dataframe tbody tr th:only-of-type {\n",
              "        vertical-align: middle;\n",
              "    }\n",
              "\n",
              "    .dataframe tbody tr th {\n",
              "        vertical-align: top;\n",
              "    }\n",
              "\n",
              "    .dataframe thead th {\n",
              "        text-align: right;\n",
              "    }\n",
              "</style>\n",
              "<table border=\"1\" class=\"dataframe\">\n",
              "  <thead>\n",
              "    <tr style=\"text-align: right;\">\n",
              "      <th></th>\n",
              "      <th>count</th>\n",
              "    </tr>\n",
              "    <tr>\n",
              "      <th>label</th>\n",
              "      <th></th>\n",
              "    </tr>\n",
              "  </thead>\n",
              "  <tbody>\n",
              "    <tr>\n",
              "      <th>1</th>\n",
              "      <td>20</td>\n",
              "    </tr>\n",
              "    <tr>\n",
              "      <th>0</th>\n",
              "      <td>20</td>\n",
              "    </tr>\n",
              "  </tbody>\n",
              "</table>\n",
              "</div><br><label><b>dtype:</b> int64</label>"
            ]
          },
          "metadata": {},
          "execution_count": 6
        }
      ]
    },
    {
      "cell_type": "markdown",
      "source": [
        "Der Datensatz ist ausgeglichen: Er enthält jeweils 20 als positiv bzw. negativ annotierte Feedbacks."
      ],
      "metadata": {
        "id": "qNsFmSzIzKzV"
      }
    },
    {
      "cell_type": "markdown",
      "source": [
        "### 2. Bereinige den Datensatz"
      ],
      "metadata": {
        "id": "aJ2UF-zvx-eM"
      }
    },
    {
      "cell_type": "markdown",
      "source": [
        "Wir nutzen *spacy*, das eine schnelle Textverarbeitung erlaubt. Eine Alternative wäre *nltk* - ein Package, das flexibler, aber langsamer ist."
      ],
      "metadata": {
        "id": "L-Gkotvv0ni5"
      }
    },
    {
      "cell_type": "code",
      "source": [
        "import spacy\n",
        "!python -m spacy download de_core_news_sm\n",
        "nlp = spacy.load(\"de_core_news_sm\")"
      ],
      "metadata": {
        "colab": {
          "base_uri": "https://localhost:8080/"
        },
        "id": "uH_Oqv6ijAsH",
        "outputId": "c212432c-542a-4ef1-bc87-ded524997809"
      },
      "execution_count": 7,
      "outputs": [
        {
          "output_type": "stream",
          "name": "stdout",
          "text": [
            "Collecting de-core-news-sm==3.8.0\n",
            "  Downloading https://github.com/explosion/spacy-models/releases/download/de_core_news_sm-3.8.0/de_core_news_sm-3.8.0-py3-none-any.whl (14.6 MB)\n",
            "\u001b[2K     \u001b[90m━━━━━━━━━━━━━━━━━━━━━━━━━━━━━━━━━━━━━━━━\u001b[0m \u001b[32m14.6/14.6 MB\u001b[0m \u001b[31m73.3 MB/s\u001b[0m eta \u001b[36m0:00:00\u001b[0m\n",
            "\u001b[?25hInstalling collected packages: de-core-news-sm\n",
            "Successfully installed de-core-news-sm-3.8.0\n",
            "\u001b[38;5;2m✔ Download and installation successful\u001b[0m\n",
            "You can now load the package via spacy.load('de_core_news_sm')\n",
            "\u001b[38;5;3m⚠ Restart to reload dependencies\u001b[0m\n",
            "If you are in a Jupyter or Colab notebook, you may need to restart Python in\n",
            "order to load all the package's dependencies. You can do this by selecting the\n",
            "'Restart kernel' or 'Restart runtime' option.\n"
          ]
        }
      ]
    },
    {
      "cell_type": "code",
      "source": [
        "def preprocess(text):\n",
        "    \"\"\"\n",
        "    Verarbeitet einen gegebenen Text mit einem NLP-Modell:\n",
        "    - Wandelt den Text in Kleinbuchstaben um\n",
        "    - Entfernt Satzzeichen und Leerzeichen\n",
        "    - Gibt eine Liste von Wörtern zurück (\"Tokenisierung\")\n",
        "\n",
        "    Parameter:\n",
        "    text (str): Der Eingabetext, der verarbeitet werden soll.\n",
        "\n",
        "    Rückgabe:\n",
        "    list: Eine Liste von Wörtern (Tokens) ohne Satz- und Leerzeichen.\n",
        "    \"\"\"\n",
        "    doc = nlp(text.lower()) # wandle in Kleinbuchstaben um\n",
        "    return [\n",
        "        token.text # gebe eine Liste von Wörtern zurück\n",
        "        for token in doc\n",
        "        if not token.is_punct and not token.is_space  # entferne Leer- und Satzzeichen\n",
        "    ]"
      ],
      "metadata": {
        "id": "Np6Y_IqdjD0h"
      },
      "execution_count": 8,
      "outputs": []
    },
    {
      "cell_type": "markdown",
      "source": [
        "Wende das Pre-Processing auf das Dataframe an."
      ],
      "metadata": {
        "id": "pKlwnh_W1fL2"
      }
    },
    {
      "cell_type": "code",
      "source": [
        "# Erstelle eine neue Spalte mit dem Namen \"tokens\", die sich aus der Anwendung der \"preprocess\" Funktion auf die \"text\"-Spalte ergibt.\n",
        "df[\"tokens\"] = df[\"text\"].apply(preprocess)"
      ],
      "metadata": {
        "id": "DBQ-ncE89C84"
      },
      "execution_count": 9,
      "outputs": []
    },
    {
      "cell_type": "code",
      "source": [
        "df.head(4)"
      ],
      "metadata": {
        "id": "g4SXP0viy9fx",
        "outputId": "b1197b5d-e7ad-41e5-f4e6-a84286db453b",
        "colab": {
          "base_uri": "https://localhost:8080/",
          "height": 175
        }
      },
      "execution_count": 10,
      "outputs": [
        {
          "output_type": "execute_result",
          "data": {
            "text/plain": [
              "                               text  label  \\\n",
              "0       Es lief gut, Zug pünktlich.      1   \n",
              "1                    Fahrt war gut.      1   \n",
              "2  Es lief schlecht, Zug verspätet.      0   \n",
              "3              Fahrt war nicht gut.      0   \n",
              "\n",
              "                                 tokens  \n",
              "0       [es, lief, gut, zug, pünktlich]  \n",
              "1                     [fahrt, war, gut]  \n",
              "2  [es, lief, schlecht, zug, verspätet]  \n",
              "3              [fahrt, war, nicht, gut]  "
            ],
            "text/html": [
              "\n",
              "  <div id=\"df-42d7eb84-407c-45f0-a417-5e5ca2144e2a\" class=\"colab-df-container\">\n",
              "    <div>\n",
              "<style scoped>\n",
              "    .dataframe tbody tr th:only-of-type {\n",
              "        vertical-align: middle;\n",
              "    }\n",
              "\n",
              "    .dataframe tbody tr th {\n",
              "        vertical-align: top;\n",
              "    }\n",
              "\n",
              "    .dataframe thead th {\n",
              "        text-align: right;\n",
              "    }\n",
              "</style>\n",
              "<table border=\"1\" class=\"dataframe\">\n",
              "  <thead>\n",
              "    <tr style=\"text-align: right;\">\n",
              "      <th></th>\n",
              "      <th>text</th>\n",
              "      <th>label</th>\n",
              "      <th>tokens</th>\n",
              "    </tr>\n",
              "  </thead>\n",
              "  <tbody>\n",
              "    <tr>\n",
              "      <th>0</th>\n",
              "      <td>Es lief gut, Zug pünktlich.</td>\n",
              "      <td>1</td>\n",
              "      <td>[es, lief, gut, zug, pünktlich]</td>\n",
              "    </tr>\n",
              "    <tr>\n",
              "      <th>1</th>\n",
              "      <td>Fahrt war gut.</td>\n",
              "      <td>1</td>\n",
              "      <td>[fahrt, war, gut]</td>\n",
              "    </tr>\n",
              "    <tr>\n",
              "      <th>2</th>\n",
              "      <td>Es lief schlecht, Zug verspätet.</td>\n",
              "      <td>0</td>\n",
              "      <td>[es, lief, schlecht, zug, verspätet]</td>\n",
              "    </tr>\n",
              "    <tr>\n",
              "      <th>3</th>\n",
              "      <td>Fahrt war nicht gut.</td>\n",
              "      <td>0</td>\n",
              "      <td>[fahrt, war, nicht, gut]</td>\n",
              "    </tr>\n",
              "  </tbody>\n",
              "</table>\n",
              "</div>\n",
              "    <div class=\"colab-df-buttons\">\n",
              "\n",
              "  <div class=\"colab-df-container\">\n",
              "    <button class=\"colab-df-convert\" onclick=\"convertToInteractive('df-42d7eb84-407c-45f0-a417-5e5ca2144e2a')\"\n",
              "            title=\"Convert this dataframe to an interactive table.\"\n",
              "            style=\"display:none;\">\n",
              "\n",
              "  <svg xmlns=\"http://www.w3.org/2000/svg\" height=\"24px\" viewBox=\"0 -960 960 960\">\n",
              "    <path d=\"M120-120v-720h720v720H120Zm60-500h600v-160H180v160Zm220 220h160v-160H400v160Zm0 220h160v-160H400v160ZM180-400h160v-160H180v160Zm440 0h160v-160H620v160ZM180-180h160v-160H180v160Zm440 0h160v-160H620v160Z\"/>\n",
              "  </svg>\n",
              "    </button>\n",
              "\n",
              "  <style>\n",
              "    .colab-df-container {\n",
              "      display:flex;\n",
              "      gap: 12px;\n",
              "    }\n",
              "\n",
              "    .colab-df-convert {\n",
              "      background-color: #E8F0FE;\n",
              "      border: none;\n",
              "      border-radius: 50%;\n",
              "      cursor: pointer;\n",
              "      display: none;\n",
              "      fill: #1967D2;\n",
              "      height: 32px;\n",
              "      padding: 0 0 0 0;\n",
              "      width: 32px;\n",
              "    }\n",
              "\n",
              "    .colab-df-convert:hover {\n",
              "      background-color: #E2EBFA;\n",
              "      box-shadow: 0px 1px 2px rgba(60, 64, 67, 0.3), 0px 1px 3px 1px rgba(60, 64, 67, 0.15);\n",
              "      fill: #174EA6;\n",
              "    }\n",
              "\n",
              "    .colab-df-buttons div {\n",
              "      margin-bottom: 4px;\n",
              "    }\n",
              "\n",
              "    [theme=dark] .colab-df-convert {\n",
              "      background-color: #3B4455;\n",
              "      fill: #D2E3FC;\n",
              "    }\n",
              "\n",
              "    [theme=dark] .colab-df-convert:hover {\n",
              "      background-color: #434B5C;\n",
              "      box-shadow: 0px 1px 3px 1px rgba(0, 0, 0, 0.15);\n",
              "      filter: drop-shadow(0px 1px 2px rgba(0, 0, 0, 0.3));\n",
              "      fill: #FFFFFF;\n",
              "    }\n",
              "  </style>\n",
              "\n",
              "    <script>\n",
              "      const buttonEl =\n",
              "        document.querySelector('#df-42d7eb84-407c-45f0-a417-5e5ca2144e2a button.colab-df-convert');\n",
              "      buttonEl.style.display =\n",
              "        google.colab.kernel.accessAllowed ? 'block' : 'none';\n",
              "\n",
              "      async function convertToInteractive(key) {\n",
              "        const element = document.querySelector('#df-42d7eb84-407c-45f0-a417-5e5ca2144e2a');\n",
              "        const dataTable =\n",
              "          await google.colab.kernel.invokeFunction('convertToInteractive',\n",
              "                                                    [key], {});\n",
              "        if (!dataTable) return;\n",
              "\n",
              "        const docLinkHtml = 'Like what you see? Visit the ' +\n",
              "          '<a target=\"_blank\" href=https://colab.research.google.com/notebooks/data_table.ipynb>data table notebook</a>'\n",
              "          + ' to learn more about interactive tables.';\n",
              "        element.innerHTML = '';\n",
              "        dataTable['output_type'] = 'display_data';\n",
              "        await google.colab.output.renderOutput(dataTable, element);\n",
              "        const docLink = document.createElement('div');\n",
              "        docLink.innerHTML = docLinkHtml;\n",
              "        element.appendChild(docLink);\n",
              "      }\n",
              "    </script>\n",
              "  </div>\n",
              "\n",
              "\n",
              "<div id=\"df-00e395be-a12a-4eea-a49a-e4200d74ef67\">\n",
              "  <button class=\"colab-df-quickchart\" onclick=\"quickchart('df-00e395be-a12a-4eea-a49a-e4200d74ef67')\"\n",
              "            title=\"Suggest charts\"\n",
              "            style=\"display:none;\">\n",
              "\n",
              "<svg xmlns=\"http://www.w3.org/2000/svg\" height=\"24px\"viewBox=\"0 0 24 24\"\n",
              "     width=\"24px\">\n",
              "    <g>\n",
              "        <path d=\"M19 3H5c-1.1 0-2 .9-2 2v14c0 1.1.9 2 2 2h14c1.1 0 2-.9 2-2V5c0-1.1-.9-2-2-2zM9 17H7v-7h2v7zm4 0h-2V7h2v10zm4 0h-2v-4h2v4z\"/>\n",
              "    </g>\n",
              "</svg>\n",
              "  </button>\n",
              "\n",
              "<style>\n",
              "  .colab-df-quickchart {\n",
              "      --bg-color: #E8F0FE;\n",
              "      --fill-color: #1967D2;\n",
              "      --hover-bg-color: #E2EBFA;\n",
              "      --hover-fill-color: #174EA6;\n",
              "      --disabled-fill-color: #AAA;\n",
              "      --disabled-bg-color: #DDD;\n",
              "  }\n",
              "\n",
              "  [theme=dark] .colab-df-quickchart {\n",
              "      --bg-color: #3B4455;\n",
              "      --fill-color: #D2E3FC;\n",
              "      --hover-bg-color: #434B5C;\n",
              "      --hover-fill-color: #FFFFFF;\n",
              "      --disabled-bg-color: #3B4455;\n",
              "      --disabled-fill-color: #666;\n",
              "  }\n",
              "\n",
              "  .colab-df-quickchart {\n",
              "    background-color: var(--bg-color);\n",
              "    border: none;\n",
              "    border-radius: 50%;\n",
              "    cursor: pointer;\n",
              "    display: none;\n",
              "    fill: var(--fill-color);\n",
              "    height: 32px;\n",
              "    padding: 0;\n",
              "    width: 32px;\n",
              "  }\n",
              "\n",
              "  .colab-df-quickchart:hover {\n",
              "    background-color: var(--hover-bg-color);\n",
              "    box-shadow: 0 1px 2px rgba(60, 64, 67, 0.3), 0 1px 3px 1px rgba(60, 64, 67, 0.15);\n",
              "    fill: var(--button-hover-fill-color);\n",
              "  }\n",
              "\n",
              "  .colab-df-quickchart-complete:disabled,\n",
              "  .colab-df-quickchart-complete:disabled:hover {\n",
              "    background-color: var(--disabled-bg-color);\n",
              "    fill: var(--disabled-fill-color);\n",
              "    box-shadow: none;\n",
              "  }\n",
              "\n",
              "  .colab-df-spinner {\n",
              "    border: 2px solid var(--fill-color);\n",
              "    border-color: transparent;\n",
              "    border-bottom-color: var(--fill-color);\n",
              "    animation:\n",
              "      spin 1s steps(1) infinite;\n",
              "  }\n",
              "\n",
              "  @keyframes spin {\n",
              "    0% {\n",
              "      border-color: transparent;\n",
              "      border-bottom-color: var(--fill-color);\n",
              "      border-left-color: var(--fill-color);\n",
              "    }\n",
              "    20% {\n",
              "      border-color: transparent;\n",
              "      border-left-color: var(--fill-color);\n",
              "      border-top-color: var(--fill-color);\n",
              "    }\n",
              "    30% {\n",
              "      border-color: transparent;\n",
              "      border-left-color: var(--fill-color);\n",
              "      border-top-color: var(--fill-color);\n",
              "      border-right-color: var(--fill-color);\n",
              "    }\n",
              "    40% {\n",
              "      border-color: transparent;\n",
              "      border-right-color: var(--fill-color);\n",
              "      border-top-color: var(--fill-color);\n",
              "    }\n",
              "    60% {\n",
              "      border-color: transparent;\n",
              "      border-right-color: var(--fill-color);\n",
              "    }\n",
              "    80% {\n",
              "      border-color: transparent;\n",
              "      border-right-color: var(--fill-color);\n",
              "      border-bottom-color: var(--fill-color);\n",
              "    }\n",
              "    90% {\n",
              "      border-color: transparent;\n",
              "      border-bottom-color: var(--fill-color);\n",
              "    }\n",
              "  }\n",
              "</style>\n",
              "\n",
              "  <script>\n",
              "    async function quickchart(key) {\n",
              "      const quickchartButtonEl =\n",
              "        document.querySelector('#' + key + ' button');\n",
              "      quickchartButtonEl.disabled = true;  // To prevent multiple clicks.\n",
              "      quickchartButtonEl.classList.add('colab-df-spinner');\n",
              "      try {\n",
              "        const charts = await google.colab.kernel.invokeFunction(\n",
              "            'suggestCharts', [key], {});\n",
              "      } catch (error) {\n",
              "        console.error('Error during call to suggestCharts:', error);\n",
              "      }\n",
              "      quickchartButtonEl.classList.remove('colab-df-spinner');\n",
              "      quickchartButtonEl.classList.add('colab-df-quickchart-complete');\n",
              "    }\n",
              "    (() => {\n",
              "      let quickchartButtonEl =\n",
              "        document.querySelector('#df-00e395be-a12a-4eea-a49a-e4200d74ef67 button');\n",
              "      quickchartButtonEl.style.display =\n",
              "        google.colab.kernel.accessAllowed ? 'block' : 'none';\n",
              "    })();\n",
              "  </script>\n",
              "</div>\n",
              "\n",
              "    </div>\n",
              "  </div>\n"
            ],
            "application/vnd.google.colaboratory.intrinsic+json": {
              "type": "dataframe",
              "variable_name": "df",
              "summary": "{\n  \"name\": \"df\",\n  \"rows\": 40,\n  \"fields\": [\n    {\n      \"column\": \"text\",\n      \"properties\": {\n        \"dtype\": \"string\",\n        \"num_unique_values\": 39,\n        \"samples\": [\n          \"Reise war sehr unangenehm.\",\n          \"Zug hielt mitten auf der Strecke.\",\n          \"Alles wie geplant, super Service.\"\n        ],\n        \"semantic_type\": \"\",\n        \"description\": \"\"\n      }\n    },\n    {\n      \"column\": \"label\",\n      \"properties\": {\n        \"dtype\": \"number\",\n        \"std\": 0,\n        \"min\": 0,\n        \"max\": 1,\n        \"num_unique_values\": 2,\n        \"samples\": [\n          0,\n          1\n        ],\n        \"semantic_type\": \"\",\n        \"description\": \"\"\n      }\n    },\n    {\n      \"column\": \"tokens\",\n      \"properties\": {\n        \"dtype\": \"object\",\n        \"semantic_type\": \"\",\n        \"description\": \"\"\n      }\n    }\n  ]\n}"
            }
          },
          "metadata": {},
          "execution_count": 10
        }
      ]
    },
    {
      "cell_type": "markdown",
      "source": [
        "## B. Naive-Bayes-Modell trainieren"
      ],
      "metadata": {
        "id": "wNJJFmQh23vx"
      }
    },
    {
      "cell_type": "markdown",
      "source": [
        "### 3. Zähle die Worthäufigkeiten je Klasse"
      ],
      "metadata": {
        "id": "SQHROLQO3HSq"
      }
    },
    {
      "cell_type": "code",
      "source": [
        "def create_freq_table(token_lists, labels):\n",
        "    \"\"\"\n",
        "    Zählt die Häufigkeit jedes Wortes (Tokens) in Kombination mit einem zugehörigen Label (0 oder 1)\n",
        "    und gibt ein Dictionary mit diesen Wort-Label-Paaren als Schlüssel zurück.\n",
        "\n",
        "    Parameter:\n",
        "    token_lists (list of list of str): Eine Liste, in der jede Eintragung eine Liste von Tokens (Wörtern) ist.\n",
        "    labels (list of int): Eine Liste von Labels (0 oder 1), jeweils entsprechend einer Token-Liste.\n",
        "\n",
        "    Rückgabe:\n",
        "    dict: Ein Dictionary mit (Wort, Label)-Tupeln als Schlüssel und deren Häufigkeit als Wert.\n",
        "    \"\"\"\n",
        "    result = {}\n",
        "    for tokens, y in zip(token_lists, labels):\n",
        "        for word in tokens:\n",
        "            pair = (word, y)\n",
        "            if pair in result.keys():\n",
        "                result[pair] += 1\n",
        "            else:\n",
        "                result[pair] = 1\n",
        "    return result"
      ],
      "metadata": {
        "id": "BHHnNPQUjZvn"
      },
      "execution_count": 11,
      "outputs": []
    },
    {
      "cell_type": "code",
      "source": [
        "# Erstelle die Worthäufigkeiten-Tabelle als Dictionary aus dem Dataframe df\n",
        "freq = create_freq_table(df['tokens'], df['label'])"
      ],
      "metadata": {
        "id": "ebvKpfjyjgYT"
      },
      "execution_count": 12,
      "outputs": []
    },
    {
      "cell_type": "code",
      "source": [
        "# Zeige die ersten Einträge an\n",
        "for pair in list(freq.items())[:10]:\n",
        "    print(pair)"
      ],
      "metadata": {
        "id": "z-oe9pEg9_Xw",
        "outputId": "7083441f-c2f3-4bc3-fece-a408889d7e74",
        "colab": {
          "base_uri": "https://localhost:8080/"
        }
      },
      "execution_count": 13,
      "outputs": [
        {
          "output_type": "stream",
          "name": "stdout",
          "text": [
            "(('es', 1), 1)\n",
            "(('lief', 1), 1)\n",
            "(('gut', 1), 2)\n",
            "(('zug', 1), 3)\n",
            "(('pünktlich', 1), 2)\n",
            "(('fahrt', 1), 4)\n",
            "(('war', 1), 5)\n",
            "(('es', 0), 1)\n",
            "(('lief', 0), 1)\n",
            "(('schlecht', 0), 3)\n"
          ]
        }
      ]
    },
    {
      "cell_type": "markdown",
      "source": [
        "Um die Einträge aus dem Dictionary mit den Häufigkeiten gut abrufen zu können, schreiben wir auch eine Look-up-Funktion."
      ],
      "metadata": {
        "id": "vCPZ-Zmh4Wks"
      }
    },
    {
      "cell_type": "code",
      "source": [
        "def lookup(freq, word, label):\n",
        "    \"\"\"\n",
        "    Gibt die Häufigkeit eines Wort-Label-Paares aus einem Frequenz-Dictionary zurück.\n",
        "\n",
        "    Parameter:\n",
        "    freq (dict): Ein Dictionary mit (Wort, Label)-Tupeln als Schlüssel und deren Häufigkeit als Wert.\n",
        "    word (str): Das Wort, nach dem gesucht werden soll.\n",
        "    label (int): Das zugehörige Label (z. B. 0 oder 1), das mit dem Wort kombiniert wird.\n",
        "\n",
        "    Rückgabe:\n",
        "    int: Die Anzahl der Vorkommen des (Wort, Label)-Paares im Dictionary. Gibt 0 zurück, wenn das Paar nicht vorhanden ist.\n",
        "    \"\"\"\n",
        "    n = 0\n",
        "    pair = (word, label)\n",
        "    if pair in freq:\n",
        "        n = freq[pair]\n",
        "    return n"
      ],
      "metadata": {
        "id": "HD4os7wT4u9P"
      },
      "execution_count": 14,
      "outputs": []
    },
    {
      "cell_type": "code",
      "source": [
        "# Wende die Lookup Funktion an, um die Häufigkeit des Wortes \"es\" mit dem Label \"1\" zu erhalten\n",
        "lookup(freq,\"es\",1)"
      ],
      "metadata": {
        "id": "mFCejs8X49Bh",
        "outputId": "3da9e713-38f1-499d-97e4-2533f2b40644",
        "colab": {
          "base_uri": "https://localhost:8080/"
        }
      },
      "execution_count": 15,
      "outputs": [
        {
          "output_type": "execute_result",
          "data": {
            "text/plain": [
              "1"
            ]
          },
          "metadata": {},
          "execution_count": 15
        }
      ]
    },
    {
      "cell_type": "markdown",
      "source": [
        "### 4. Berechne Log Prior und die Log-Likelihood-Werte λ je Wort\n"
      ],
      "metadata": {
        "id": "mqQlftJ-6bTX"
      }
    },
    {
      "cell_type": "markdown",
      "source": [
        "Wir nutzen *numpy* für die Log-Berechnungen"
      ],
      "metadata": {
        "id": "vzHILWcv6r3B"
      }
    },
    {
      "cell_type": "code",
      "source": [
        "import numpy as np"
      ],
      "metadata": {
        "id": "hwjLpH9f6zha"
      },
      "execution_count": 16,
      "outputs": []
    },
    {
      "cell_type": "code",
      "source": [
        "def train_naive_bayes(freq, train_x, train_y):\n",
        "    \"\"\"\n",
        "    Trainiert ein Naive-Bayes-Modell zur Sentiment-Analyse auf Basis von Wortfrequenzen.\n",
        "\n",
        "    Parameter:\n",
        "    freq (dict): Ein Dictionary mit (Wort, Label)-Tupeln als Schlüssel und ihrer Häufigkeit als Wert.\n",
        "    train_x (list of str): Eine Liste von Texten in Form von Token-Listen\n",
        "    train_y (list of int): Eine Liste von zugehörigen Labels (0 = negativ, 1 = positiv).\n",
        "\n",
        "    Rückgabe:\n",
        "    logprior (float): Der logarithmische Prior-Wert (Verhältnis positiver zu negativer Texte).\n",
        "    loglikelihood (dict): Ein Dictionary mit Wörtern als Schlüssel und deren log-Likelihood-Werten als Wert.\n",
        "\n",
        "    \"\"\"\n",
        "    loglikelihood = {}\n",
        "    logprior = 0\n",
        "\n",
        "    # Vokabular bestimmen (alle eindeutigen Wörter in freq)\n",
        "    vocab = set([pair[0] for pair in freq.keys()])\n",
        "    n = len(vocab)  # Anzahl der eindeutigen Wörter im Vokabular\n",
        "\n",
        "    # Zähler für positive und negative Wortvorkommen initialisieren\n",
        "    # N_pos und N_neg sind jeweils die Summen der Spalten der Wortfrequenztabelle\n",
        "    N_pos = N_neg = 0\n",
        "    for pair in freq.keys():\n",
        "        if pair[1] > 0:\n",
        "            # Wenn das Label positiv ist, erhöhe Zähler für positive Wörter\n",
        "            N_pos += freq[pair]\n",
        "        else:\n",
        "            # Wenn das Label negativ ist, erhöhe Zähler für negative Wörter\n",
        "            N_neg += freq[pair]\n",
        "\n",
        "    # Gesamtanzahl der Texte\n",
        "    D = len(train_y)\n",
        "\n",
        "    # Anzahl der positiven Texte\n",
        "    D_pos = len([y for y in train_y if y > 0])\n",
        "\n",
        "    # Anzahl der negativen Texte (alle übrigen)\n",
        "    D_neg = D - D_pos\n",
        "\n",
        "    # Berechne den logprior (logarithmisches Verhältnis positiver zu negativer Texte)\n",
        "    logprior = np.log(D_pos / D_neg)\n",
        "\n",
        "    # Für jedes Wort im Vokabular...\n",
        "    for word in vocab:\n",
        "        # Häufigkeit des Wortes bei positiven und negativen Labels abrufen\n",
        "        freq_pos = lookup(freq, word, 1)\n",
        "        freq_neg = lookup(freq, word, 0)\n",
        "\n",
        "        # Wahrscheinlichkeiten mit Laplace-Smoothing berechnen\n",
        "        p_w_pos = (freq_pos + 1) / (N_pos + n)\n",
        "        p_w_neg = (freq_neg + 1) / (N_neg + n)\n",
        "\n",
        "        # Log-Likelihood berechnen und speichern\n",
        "        loglikelihood[word] = np.log(p_w_pos / p_w_neg)\n",
        "\n",
        "    return logprior, loglikelihood\n"
      ],
      "metadata": {
        "id": "yB08b1EcnR6x"
      },
      "execution_count": 17,
      "outputs": []
    },
    {
      "cell_type": "code",
      "source": [
        "logprior, loglikelihood = train_naive_bayes(freq, df['tokens'], df['label'])\n",
        "print(logprior)\n",
        "print(len(loglikelihood))"
      ],
      "metadata": {
        "colab": {
          "base_uri": "https://localhost:8080/"
        },
        "id": "1LsgaTZ3n-PP",
        "outputId": "2139855a-6a8b-43a5-d5b6-01dd5427a35f"
      },
      "execution_count": 18,
      "outputs": [
        {
          "output_type": "stream",
          "name": "stdout",
          "text": [
            "0.0\n",
            "96\n"
          ]
        }
      ]
    },
    {
      "cell_type": "markdown",
      "source": [
        "## C. Naive-Bayes-Modell anwenden"
      ],
      "metadata": {
        "id": "pJ5BBHp6AVvc"
      }
    },
    {
      "cell_type": "markdown",
      "source": [
        "### 5. Nutze das Modell zur Sentimentanalyse"
      ],
      "metadata": {
        "id": "jDFPaxGWAbIq"
      }
    },
    {
      "cell_type": "code",
      "source": [
        "def naive_bayes_predict(text, logprior, loglikelihood):\n",
        "    \"\"\"\n",
        "    Schätzt die Wahrscheinlichkeit, dass ein gegebener Text (z.B. Feedback) positiv oder negativ ist,\n",
        "    basierend auf einem trainierten Naive-Bayes-Modell.\n",
        "\n",
        "    Parameter:\n",
        "    text (str): Der Eingabetext, der klassifiziert werden soll.\n",
        "    logprior (float): Der logarithmische Prior-Wert aus dem Training (log(P(positiv) / P(negativ))).\n",
        "    loglikelihood (dict): Ein Dictionary, das jedem Wort einen Log-Likelihood-Wert zuordnet.\n",
        "\n",
        "    Rückgabe:\n",
        "    float: Die geschätzte Wahrscheinlichkeit (in Log-Werten), dass der Text zur positiven Klasse gehört.\n",
        "           Ein positiver Wert spricht für eine positive, ein negativer für eine negative Klasse.\n",
        "    \"\"\"\n",
        "\n",
        "    # Den Text vorverarbeiten und in einzelne Wörter (Tokens) zerlegen\n",
        "    tokens = preprocess(text)\n",
        "\n",
        "    # Wahrscheinlichkeitswert initialisieren\n",
        "    p = 0\n",
        "\n",
        "    # Logprior-Wert zur Gesamtwahrscheinlichkeit addieren\n",
        "    p += logprior\n",
        "\n",
        "    # Für jedes Wort im Text:\n",
        "    for word in tokens:\n",
        "        # Wenn das Wort im Log-Likelihood-Wörterbuch vorhanden ist,\n",
        "        if word in loglikelihood:\n",
        "            # füge den Log-Likelihood-Wert des Wortes zur Gesamtwahrscheinlichkeit hinzu\n",
        "            p += loglikelihood[word]\n",
        "\n",
        "    return p"
      ],
      "metadata": {
        "id": "DQ82zAmdugEP"
      },
      "execution_count": 19,
      "outputs": []
    },
    {
      "cell_type": "code",
      "source": [
        "test_text = 'Fahrt lief gut.'"
      ],
      "metadata": {
        "id": "r2APxctpv2WT"
      },
      "execution_count": 20,
      "outputs": []
    },
    {
      "cell_type": "code",
      "source": [
        "# Wende das Modell auf des Test-Text an\n",
        "p = naive_bayes_predict(test_text, logprior, loglikelihood)\n",
        "sentiment = \"positiv\" if p > 0 else \"negativ\" if p < 0 else \"neutral\"\n",
        "print(f\"Das Sentiment von \\\"{test_text}\\\" ist {sentiment} (p={p:.2f}).\")"
      ],
      "metadata": {
        "id": "DBh4YEX5v-UE",
        "outputId": "67ac30ea-1154-4fdc-d3a6-cb5f1eb73040",
        "colab": {
          "base_uri": "https://localhost:8080/"
        }
      },
      "execution_count": 21,
      "outputs": [
        {
          "output_type": "stream",
          "name": "stdout",
          "text": [
            "Das Sentiment von \"Fahrt lief gut.\" ist positiv.\n"
          ]
        }
      ]
    }
  ]
}
